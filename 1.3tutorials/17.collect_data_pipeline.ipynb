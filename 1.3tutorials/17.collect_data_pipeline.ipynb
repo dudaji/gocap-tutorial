{
 "cells": [
  {
   "cell_type": "code",
   "execution_count": null,
   "id": "427dbe53-ce21-4e46-9bac-a7efbc31b5fe",
   "metadata": {},
   "outputs": [],
   "source": [
    "# collect_data_pipeline.ipynb\n",
    "import kfp\n",
    "from kfp import dsl\n",
    "from kfp.components import func_to_container_op\n",
    "from typing import NamedTuple\n",
    "\n",
    "\n",
    "def collect_data_component(gen_count: int = 100):\n",
    "    import datetime\n",
    "    import os\n",
    "    from random import randint\n",
    "    import tensorflow as tf\n",
    "    from PIL import Image, ImageOps\n",
    "    from tensorflow.keras.preprocessing.image import ImageDataGenerator\n",
    "\n",
    "    def save_image(filename, data_array):\n",
    "        im = Image.fromarray(data_array.astype('uint8'))\n",
    "        im_invert = ImageOps.invert(im)\n",
    "        im_invert.save(filename)\n",
    "\n",
    "    img_rows, img_cols = 28, 28\n",
    "\n",
    "    mnist = tf.keras.datasets.fashion_mnist\n",
    "    (x_train, y_train), (x_test, y_test) = mnist.load_data()\n",
    "    x_train_reshaped = x_train.reshape(x_train.shape[0], img_rows, img_cols, 1)\n",
    "\n",
    "    datagen = ImageDataGenerator(rotation_range=180)\n",
    "\n",
    "    pick_index = randint(1, len(x_train) / gen_count)\n",
    "    start = (pick_index - 1) * gen_count\n",
    "    end = pick_index * gen_count\n",
    "    rotated_train = datagen.flow(x_train_reshaped[start:end],\n",
    "                                    y_train[start:end],\n",
    "                                    batch_size=1)\n",
    "    raw_path = \"/notebook/new_dataset/raw\"\n",
    "    date_postfix = datetime.datetime.now().strftime(\"%Y%m%d%H%M%S\")\n",
    "    os.makedirs(raw_path, exist_ok=True)\n",
    "    for i in range(len(rotated_train)):\n",
    "        rotated = rotated_train.next()\n",
    "        filename = f\"{raw_path}/{rotated[1][0]}-{date_postfix}{i}.png\"\n",
    "        save_image(filename, rotated[0].reshape(img_rows, img_cols))\n",
    "\n"
   ]
  },
  {
   "cell_type": "code",
   "execution_count": null,
   "id": "77d67a43-6ecc-416d-bcd7-fb23a455b19f",
   "metadata": {},
   "outputs": [],
   "source": [
    "# collect_data_pipeline.ipynb\n",
    "def collect_data_pipeline(gen_count: int):\n",
    "    collect_data_op = func_to_container_op(collect_data_component,\n",
    "                                     base_image=\"dudaji/cap-jupyterlab:tf2.0-cpu\") \n",
    "\n",
    "    notebook_vol = dsl.PipelineVolume(pvc=\"workspace-handson\")\n",
    "    collect_data = collect_data_op(gen_count) \\\n",
    "        .add_pvolumes(pvolumes={\"/notebook\": notebook_vol})\n",
    "    collect_data.execution_options.caching_strategy.max_cache_staleness = \"P0D\"   \n",
    "    \n",
    "arguments = {\"gen_count\": 100}\n",
    "\n",
    "client = kfp.Client()\n",
    "client.create_run_from_pipeline_func(collect_data_pipeline, \n",
    "                                     experiment_name=\"collect_raw_data\",\n",
    "                                     arguments=arguments)                     "
   ]
  },
  {
   "cell_type": "code",
   "execution_count": null,
   "id": "36d105f2-ca70-482a-94ce-15e8e0d99772",
   "metadata": {},
   "outputs": [],
   "source": [
    "# collect_data_pipeline.ipynb\n",
    "kfp.compiler.Compiler().compile(\n",
    "    pipeline_func=collect_data_pipeline,\n",
    "    package_path='collect_data_pipeline.yaml')\n",
    "\n",
    "client.upload_pipeline(pipeline_name=\"collect_data_pipeline_test\",\n",
    "                       description=\"Collect new image\",\n",
    "                       pipeline_package_path=\"collect_data_pipeline.yaml\")"
   ]
  },
  {
   "cell_type": "code",
   "execution_count": null,
   "id": "f7b221de-b42c-4bf7-a061-81e53a28b87a",
   "metadata": {},
   "outputs": [],
   "source": []
  }
 ],
 "metadata": {
  "kernelspec": {
   "display_name": "Python 3",
   "language": "python",
   "name": "python3"
  },
  "language_info": {
   "codemirror_mode": {
    "name": "ipython",
    "version": 3
   },
   "file_extension": ".py",
   "mimetype": "text/x-python",
   "name": "python",
   "nbconvert_exporter": "python",
   "pygments_lexer": "ipython3",
   "version": "3.6.9"
  }
 },
 "nbformat": 4,
 "nbformat_minor": 5
}
