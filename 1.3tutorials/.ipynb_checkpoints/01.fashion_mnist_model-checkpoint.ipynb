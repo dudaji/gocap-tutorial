{
 "cells": [
  {
   "cell_type": "code",
   "execution_count": null,
   "id": "af1311d3-0dc9-4b46-bbf1-a0b701eb647e",
   "metadata": {},
   "outputs": [],
   "source": [
    "# fashion_mnist_model.ipynb\n",
    "import tensorflow as tf\n",
    "\n",
    "mnist = tf.keras.datasets.fashion_mnist\n",
    "(x_train, y_train), (x_test, y_test) = mnist.load_data()\n",
    "\n",
    "print(\"x_train shape:\", x_train.shape, \"y_train shape:\", y_train.shape)\n",
    "print(\"x_test shape:\", x_test.shape, \"y_test shape:\", y_test.shape)\n"
   ]
  },
  {
   "cell_type": "code",
   "execution_count": null,
   "id": "26f8b72f-f42b-44ce-b784-8685aef42dfd",
   "metadata": {},
   "outputs": [],
   "source": [
    "!python -m pip install -U pip\n",
    "!python -m pip install -U matplotlib"
   ]
  },
  {
   "cell_type": "code",
   "execution_count": null,
   "id": "381cf565-e949-41e9-8f76-b48cc55afefd",
   "metadata": {},
   "outputs": [],
   "source": [
    "import matplotlib.pyplot as plt\n",
    "import random\n",
    "# 10개의 클래스 이름은 아래와 같습니다.\n",
    "class_names = ['T-shirt/top', 'Trouser', 'Pullover', 'Dress', 'Coat',\n",
    "               'Sandal', 'Shirt', 'Sneaker', 'Bag', 'Ankle boot']\n",
    "\n",
    "img_index = random.randrange(0, 59999)\n",
    "label_index = y_train[img_index]\n",
    "print (f\"img_index = {img_index}, y = {label_index} {class_names[label_index]}\")\n",
    "plt.imshow(x_train[img_index])\n",
    "plt.colorbar()\n",
    "plt.show()"
   ]
  },
  {
   "cell_type": "code",
   "execution_count": null,
   "id": "63e9603a-8f14-4d8b-9580-94ab8b42c2bb",
   "metadata": {},
   "outputs": [],
   "source": [
    "print(set(y_train))"
   ]
  },
  {
   "cell_type": "code",
   "execution_count": null,
   "id": "89139bab-ceaa-42fe-a1f9-e12c631c78d1",
   "metadata": {},
   "outputs": [],
   "source": [
    "# 데이터셋 정규화하기\n",
    "x_train, x_test = x_train / 255.0, x_test / 255.0"
   ]
  },
  {
   "cell_type": "code",
   "execution_count": null,
   "id": "829ee6be-f9fe-4552-88e7-319c19b11f96",
   "metadata": {},
   "outputs": [],
   "source": [
    "# 모델 구성하기\n",
    "\n",
    "model = tf.keras.models.Sequential([\n",
    "    tf.keras.layers.Flatten(input_shape=(28, 28)),\n",
    "    tf.keras.layers.Dense(128, activation='relu'),\n",
    "    tf.keras.layers.Dropout(0.2),\n",
    "    tf.keras.layers.Dense(10, activation='softmax')\n",
    "])"
   ]
  },
  {
   "cell_type": "code",
   "execution_count": null,
   "id": "536ad827-5ad1-408b-b4e0-04a632a7cbd9",
   "metadata": {},
   "outputs": [],
   "source": [
    "# 모델 컴파일하기\n",
    "# fashion_mnist_model.ipynb\n",
    "model.compile(optimizer='sgd',\n",
    "                loss='sparse_categorical_crossentropy',\n",
    "                metrics=['acc'])"
   ]
  },
  {
   "cell_type": "code",
   "execution_count": null,
   "id": "8be21c1a-1187-4773-92d4-2974fe1102d9",
   "metadata": {},
   "outputs": [],
   "source": [
    "# 텐서보드 로그 설정하기\n",
    "\n",
    "import datetime\n",
    "log_dir = \"log/fit/\" + datetime.datetime.now().strftime(\"%Y%m%d-%H%M%S\") \n",
    "print(f\"tensorboard log dir : {log_dir}\")"
   ]
  },
  {
   "cell_type": "code",
   "execution_count": null,
   "id": "83f17299-7ef8-4dbf-bdc8-6d4db29007ee",
   "metadata": {},
   "outputs": [],
   "source": [
    "# 텐서보드 로그 설정하기\n",
    "\n",
    "tensorboard_cb = tf.keras.callbacks.TensorBoard(log_dir=log_dir, histogram_freq=1)"
   ]
  },
  {
   "cell_type": "code",
   "execution_count": null,
   "id": "679888e6-7704-4d20-a681-2ca04b7a717f",
   "metadata": {},
   "outputs": [],
   "source": [
    "# 모델 학습시키기\n",
    "model.fit(x_train, y_train,\n",
    "            verbose=1,\n",
    "            validation_data=(x_test, y_test),\n",
    "            epochs=10,\n",
    "            callbacks=[tensorboard_cb])"
   ]
  },
  {
   "cell_type": "code",
   "execution_count": null,
   "id": "8852b750-9c36-4b2d-a39c-f64018e6ae2c",
   "metadata": {},
   "outputs": [],
   "source": []
  }
 ],
 "metadata": {
  "kernelspec": {
   "display_name": "Python 3",
   "language": "python",
   "name": "python3"
  },
  "language_info": {
   "codemirror_mode": {
    "name": "ipython",
    "version": 3
   },
   "file_extension": ".py",
   "mimetype": "text/x-python",
   "name": "python",
   "nbconvert_exporter": "python",
   "pygments_lexer": "ipython3",
   "version": "3.6.9"
  }
 },
 "nbformat": 4,
 "nbformat_minor": 5
}
