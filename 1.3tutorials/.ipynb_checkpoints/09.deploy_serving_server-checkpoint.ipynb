{
 "cells": [
  {
   "cell_type": "code",
   "execution_count": null,
   "id": "2ab4891d-994c-4202-84b5-a4fcc47473dc",
   "metadata": {},
   "outputs": [],
   "source": [
    "# deploy_serving_server.ipynb\n",
    "from kubeflow.fairing.deployers.bentoml.serving import BentomlServing\n",
    "\n",
    "serving_image = \"YOURID/myserving-server:handson\"\n",
    "# serving_image = \"cap.dudaji.com:31480/프로젝트 이름/myserving-server:handson\"\n",
    "service_name = \"KerasFashionMnistService\"\n",
    "service_tag = \"YOURTAG\"\n",
    "\n",
    "serving = BentomlServing(serving_image=serving_image,\n",
    "                        service_tag=service_tag, \n",
    "                        service_name=service_name)\n",
    "serving.deploy()"
   ]
  },
  {
   "cell_type": "code",
   "execution_count": null,
   "id": "0a504296-ccbe-4bf6-955b-c79849007199",
   "metadata": {},
   "outputs": [],
   "source": [
    "!curl -X POST \"http://YOUR-ENDPOINT/predict\" -H \"Content-Type: image/png\" --data-binary @sample_image.png"
   ]
  }
 ],
 "metadata": {
  "kernelspec": {
   "display_name": "Python 3",
   "language": "python",
   "name": "python3"
  },
  "language_info": {
   "codemirror_mode": {
    "name": "ipython",
    "version": 3
   },
   "file_extension": ".py",
   "mimetype": "text/x-python",
   "name": "python",
   "nbconvert_exporter": "python",
   "pygments_lexer": "ipython3",
   "version": "3.6.9"
  }
 },
 "nbformat": 4,
 "nbformat_minor": 5
}
