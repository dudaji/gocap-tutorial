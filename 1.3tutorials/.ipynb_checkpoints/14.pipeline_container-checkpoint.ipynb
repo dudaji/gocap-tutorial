{
 "cells": [
  {
   "cell_type": "code",
   "execution_count": null,
   "id": "ce9ec9b7-a021-4688-874a-b578411b3024",
   "metadata": {},
   "outputs": [],
   "source": [
    "# pipeline_container.ipynb \n",
    "import kfp\n",
    "from kfp import dsl\n",
    "\n",
    "client=kfp.Client()\n",
    "\n",
    "@dsl.pipeline(name=\"fashion mnist train\")\n",
    "def fashion_mnist_pipeline(tag: str):\n",
    "    notebook_vol = dsl.PipelineVolume(pvc=\"workspace-handson\")\n",
    "    train_op = dsl.ContainerOp(name=\"fashion-mnist\",\n",
    "                  image=f\"yourID/fashion-mnist-tuner:{tag}\", #put your dockerhub id\n",
    "                  pvolumes={\"/notebook\": notebook_vol})    \n",
    "arguments = {\"tag\": \"yourTAG\"} # put your image TAG\n",
    "client.create_run_from_pipeline_func(fashion_mnist_pipeline, \n",
    "                                      arguments=arguments)   "
   ]
  },
  {
   "cell_type": "code",
   "execution_count": null,
   "id": "48fbba18-404e-4765-88c2-438e5bc5943d",
   "metadata": {},
   "outputs": [],
   "source": [
    "# pipeline_container.ipynb \n",
    "@dsl.pipeline(name=\"fashion mnist train\")\n",
    "def fashion_mnist_pipeline(tag: str):\n",
    "    notebook_vol = dsl.PipelineVolume(pvc=\"workspace-handson\")\n",
    "    vop = dsl.VolumeOp(\n",
    "        name=\"volume_creation\",\n",
    "        resource_name=\"mypvc\",\n",
    "        size=\"1Gi\"\n",
    "    )"
   ]
  },
  {
   "cell_type": "code",
   "execution_count": null,
   "id": "315a0f12-b558-44fc-9eb8-41a08c51fe4d",
   "metadata": {},
   "outputs": [],
   "source": [
    "# caching example\n",
    "def some_pipeline():\n",
    "      # task is a target step in a pipeline\n",
    "      task = some_op()\n",
    "      task.execution_options.caching_strategy.max_cache_staleness = \"P30D\""
   ]
  },
  {
   "cell_type": "code",
   "execution_count": null,
   "id": "afd2eefc-35d3-452d-b154-02fd94f20900",
   "metadata": {},
   "outputs": [],
   "source": [
    "# pipeline_container.ipynb \n",
    "import kfp\n",
    "from kfp import dsl\n",
    "\n",
    "client=kfp.Client()\n",
    "\n",
    "@dsl.pipeline(name=\"fashion mnist train\")\n",
    "def fashion_mnist_pipeline(tag: str):\n",
    "    \n",
    "    notebook_vol = dsl.PipelineVolume(pvc=\"workspace-handson\")\n",
    "    vop = dsl.VolumeOp(\n",
    "        name=\"volume_creation\",\n",
    "        resource_name=\"mypvc\",\n",
    "        size=\"1Gi\")\n",
    "    train_op = dsl.ContainerOp(name=\"fashion-mnist\",\n",
    "                  image=f\"yourID/fashion-mnist-tuner:{tag}\", #put your dockerhub id\n",
    "                  pvolumes={\"/notebook\": notebook_vol, \n",
    "                            \"/result\": vop.volume})\n",
    "    train_op.execution_options.caching_strategy.max_cache_staleness = \"P0D\"    \n",
    "arguments = {\"tag\": \"yourTAG\"} # put your image TAG\n",
    "client.create_run_from_pipeline_func(fashion_mnist_pipeline, \n",
    "                                      arguments=arguments)   "
   ]
  },
  {
   "cell_type": "code",
   "execution_count": null,
   "id": "0d9b6939-2494-42f9-adb8-50b6c3e1bbee",
   "metadata": {},
   "outputs": [],
   "source": [
    "# resource example\n",
    "\n",
    "train_op = dsl.ContainerOp(name='fashion-mnist',\n",
    "                  image=f'yourID/fashion-mnist-tuner:{tag}', #your image\n",
    "                  pvolumes={\"/notebook\": notebook_vol, \n",
    "                            \"/result\": vop.volume})\n",
    "train_op.set_cpu_request(\"2\") \\\n",
    "    .set_memory_request(\"4G\")   "
   ]
  }
 ],
 "metadata": {
  "kernelspec": {
   "display_name": "Python 3",
   "language": "python",
   "name": "python3"
  },
  "language_info": {
   "codemirror_mode": {
    "name": "ipython",
    "version": 3
   },
   "file_extension": ".py",
   "mimetype": "text/x-python",
   "name": "python",
   "nbconvert_exporter": "python",
   "pygments_lexer": "ipython3",
   "version": "3.6.9"
  }
 },
 "nbformat": 4,
 "nbformat_minor": 5
}
