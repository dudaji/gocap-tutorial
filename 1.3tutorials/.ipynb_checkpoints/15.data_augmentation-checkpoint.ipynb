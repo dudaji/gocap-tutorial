{
 "cells": [
  {
   "cell_type": "code",
   "execution_count": null,
   "id": "5bc174b0-e03a-44b9-b8e2-64c99d2d718d",
   "metadata": {},
   "outputs": [],
   "source": [
    "# data_augmentation.ipynb\n",
    "import os\n",
    "import numpy as np\n",
    "import tensorflow as tf\n",
    "from tensorflow.keras.preprocessing.image import ImageDataGenerator\n",
    "\n",
    "img_rows, img_cols = 28, 28   \n",
    "dataset_path = \"./new_dataset/test\" \n",
    "\n",
    "mnist = tf.keras.datasets.fashion_mnist\n",
    "(x_train, y_train), (x_test, y_test) = mnist.load_data()\n",
    "x_test_reshaped = x_test.reshape(x_test.shape[0], img_rows, img_cols, 1)\n",
    "\n",
    "datagen = ImageDataGenerator(rotation_range=180)\n",
    "\n",
    "rotated_test = datagen.flow(x_test_reshaped[:5000], y_test[:5000], \n",
    "                            batch_size=1)\n",
    "\n",
    "x_rotated_test = []\n",
    "y_rotated_test = []\n",
    "\n",
    "for i in range(len(rotated_test)):\n",
    "    rotated = rotated_test.next()\n",
    "    x_rotated_test.append(rotated[0].reshape(28, 28))\n",
    "    y_rotated_test.append(rotated[1])\n",
    "\n",
    "x_rotated_test = np.array(x_rotated_test) \n",
    "new_x_test = np.append(x_test[:5000], x_rotated_test, axis=0)\n",
    "new_y_test = np.append(y_test[:5000], y_rotated_test)\n",
    "os.makedirs(dataset_path, exist_ok=True)\n",
    "np.savez(f\"{dataset_path}/new_test.npz\", \n",
    "         y_test=new_y_test, \n",
    "         x_test=new_x_test)"
   ]
  },
  {
   "cell_type": "code",
   "execution_count": null,
   "id": "70c9857b-79eb-43ec-a13a-3f414fd5b9dc",
   "metadata": {},
   "outputs": [],
   "source": []
  }
 ],
 "metadata": {
  "kernelspec": {
   "display_name": "Python 3",
   "language": "python",
   "name": "python3"
  },
  "language_info": {
   "codemirror_mode": {
    "name": "ipython",
    "version": 3
   },
   "file_extension": ".py",
   "mimetype": "text/x-python",
   "name": "python",
   "nbconvert_exporter": "python",
   "pygments_lexer": "ipython3",
   "version": "3.6.9"
  }
 },
 "nbformat": 4,
 "nbformat_minor": 5
}
