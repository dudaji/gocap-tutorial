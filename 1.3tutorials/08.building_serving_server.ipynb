{
 "cells": [
  {
   "cell_type": "code",
   "execution_count": null,
   "id": "30ee6744-109b-4266-b362-9d6b90e2dd23",
   "metadata": {},
   "outputs": [],
   "source": [
    "# 보유한 bentoml 서비스 목록 확인\n",
    "!bentoml list"
   ]
  },
  {
   "cell_type": "code",
   "execution_count": null,
   "id": "cdca4d11-824b-4ca7-940d-2045c0673d8e",
   "metadata": {},
   "outputs": [],
   "source": [
    "# building_serving_server.ipynb\n",
    "from kubeflow.fairing.preprocessors.bentoml import BentomlProcessor\n",
    "service_name = \"KerasFashionMnistService\" \n",
    "service_tag = \"20210806015408_533E60\" # 조회한 서비스 목록에서 태그 입력\n",
    "preprocessor = BentomlProcessor(service_name=service_name, service_tag=service_tag)     "
   ]
  },
  {
   "cell_type": "code",
   "execution_count": null,
   "id": "58d96143-a418-4d65-83f1-541773e043fb",
   "metadata": {},
   "outputs": [],
   "source": [
    "# building_serving_server.ipynb\n",
    "from kubeflow.fairing.builders.cluster.minio_context import MinioContextSource\n",
    "storage_endpoint = \"https://www.gocap.kr:[port]\" # Endpoint 주소를 적어주세요 \n",
    "storage_access = \"handson\" # 자신의 Access Key 정보를 넣어주세요\n",
    "storage_key = \"YOURKEY\"  # 자신의 Secret Key 키 정보를 복사해서 넣어주세요\n",
    "region = \"us-east-1\"  # region은 아무 String이나 넣어도 상관 없습니다. 빈 값만 아니면 됩니다. \n",
    "myserver_source = MinioContextSource(endpoint_url=storage_endpoint, \n",
    "                                    minio_secret=storage_access, \n",
    "                                    minio_secret_key=storage_key, \n",
    "                                    region_name=region)    "
   ]
  },
  {
   "cell_type": "code",
   "execution_count": null,
   "id": "14e204cf-3c02-47e7-986a-64705db0bb89",
   "metadata": {},
   "outputs": [],
   "source": [
    "# DOCKERHUB 사용시\n",
    "DOCKER_REGISTRY = \"YOURID\"\n",
    "# CAP HARBOR REGISTRY 사용시\n",
    "# DOCKER_REGISTRY = \"cap.dudaji.com:31480/프로젝트 이름\"\n",
    "image_name = \"myserving-server\" #저장할(push)할 이미지 이름\n",
    "image_tag = \"handson\" #이미지 태그 설정"
   ]
  },
  {
   "cell_type": "code",
   "execution_count": null,
   "id": "b125d822-8a14-4136-9992-65b2cd7fc6d5",
   "metadata": {},
   "outputs": [],
   "source": [
    "# building_serving_server.ipynb\n",
    "from kubeflow.fairing.builders.cluster.cluster import ClusterBuilder  \n",
    "builder = ClusterBuilder(registry=DOCKER_REGISTRY,\n",
    "                       image_name=image_name,\n",
    "                       tag=image_tag,\n",
    "                       preprocessor=preprocessor,\n",
    "                       context_source=myserver_source,\n",
    "                       push=True)\n",
    "image_name = builder.build()\n",
    "print(image_name)"
   ]
  },
  {
   "cell_type": "code",
   "execution_count": null,
   "id": "2ab4891d-994c-4202-84b5-a4fcc47473dc",
   "metadata": {},
   "outputs": [],
   "source": []
  }
 ],
 "metadata": {
  "kernelspec": {
   "display_name": "Python 3",
   "language": "python",
   "name": "python3"
  },
  "language_info": {
   "codemirror_mode": {
    "name": "ipython",
    "version": 3
   },
   "file_extension": ".py",
   "mimetype": "text/x-python",
   "name": "python",
   "nbconvert_exporter": "python",
   "pygments_lexer": "ipython3",
   "version": "3.6.9"
  }
 },
 "nbformat": 4,
 "nbformat_minor": 5
}
