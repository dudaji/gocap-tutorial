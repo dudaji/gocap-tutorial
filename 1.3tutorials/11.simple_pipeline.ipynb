{
 "cells": [
  {
   "cell_type": "code",
   "execution_count": 5,
   "id": "56a2ed28-c2d2-4f29-b6c2-dca8f16e4894",
   "metadata": {},
   "outputs": [],
   "source": [
    "# simple_pipeline.ipynb\n",
    "import kfp\n",
    "import kfp.dsl as dsl\n",
    "from kfp.components import create_component_from_func\n",
    "\n",
    "client = kfp.Client()\n",
    "\n",
    "\n",
    "@create_component_from_func\n",
    "def add_op(a: float, b: float) -> float:\n",
    "    return a + b\n",
    "\n",
    "\n",
    "@create_component_from_func\n",
    "def power_op(a: float) -> float:\n",
    "    return a * a\n"
   ]
  },
  {
   "cell_type": "code",
   "execution_count": 6,
   "id": "e8466d27-26e5-4a1c-83c7-4a890c757474",
   "metadata": {},
   "outputs": [
    {
     "data": {
      "text/html": [
       "<a href=\"http://ml-pipeline.kubeflow.svc.cluster.local:8888/#/experiments/details/9c227270-da21-4fa3-b6e6-b783969953ca\" target=\"_blank\" >Experiment details</a>."
      ],
      "text/plain": [
       "<IPython.core.display.HTML object>"
      ]
     },
     "metadata": {},
     "output_type": "display_data"
    },
    {
     "data": {
      "text/html": [
       "<a href=\"http://ml-pipeline.kubeflow.svc.cluster.local:8888/#/runs/details/e0fb16f8-e2d2-4580-b15b-47a1f1fa24f9\" target=\"_blank\" >Run details</a>."
      ],
      "text/plain": [
       "<IPython.core.display.HTML object>"
      ]
     },
     "metadata": {},
     "output_type": "display_data"
    },
    {
     "data": {
      "text/plain": [
       "RunPipelineResult(run_id=e0fb16f8-e2d2-4580-b15b-47a1f1fa24f9)"
      ]
     },
     "execution_count": 6,
     "metadata": {},
     "output_type": "execute_result"
    }
   ],
   "source": [
    "@dsl.pipeline(\n",
    "    name='Add-power pipeline'\n",
    ")\n",
    "def add_power_pipeline(a: float = 1, b: float = 1):\n",
    "    first_task = add_op(a, b)\n",
    "    second_task = power_op(first_task.output)\n",
    "\n",
    "\n",
    "arguments = {'a': '7', 'b': '8'}\n",
    "client.create_run_from_pipeline_func(add_power_pipeline, arguments=arguments)\n"
   ]
  },
  {
   "cell_type": "code",
   "execution_count": null,
   "id": "4f197c1d-18a0-4b8c-a159-643362bef48d",
   "metadata": {},
   "outputs": [],
   "source": []
  }
 ],
 "metadata": {
  "kernelspec": {
   "display_name": "Python 3",
   "language": "python",
   "name": "python3"
  },
  "language_info": {
   "codemirror_mode": {
    "name": "ipython",
    "version": 3
   },
   "file_extension": ".py",
   "mimetype": "text/x-python",
   "name": "python",
   "nbconvert_exporter": "python",
   "pygments_lexer": "ipython3",
   "version": "3.6.9"
  }
 },
 "nbformat": 4,
 "nbformat_minor": 5
}
