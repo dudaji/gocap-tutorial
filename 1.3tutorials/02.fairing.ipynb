{
 "cells": [
  {
   "cell_type": "code",
   "execution_count": null,
   "id": "c3dc31c9-f0b0-413e-bebe-dbfc40a35f9c",
   "metadata": {},
   "outputs": [],
   "source": [
    "# 간단한 fairing job 실행해보기\n",
    "\n",
    "import os\n",
    "def show_hostname():\n",
    "    print(os.environ['HOSTNAME'])\n",
    "show_hostname()    "
   ]
  },
  {
   "cell_type": "code",
   "execution_count": null,
   "id": "2c047c1e-9854-4109-9fa6-598cc10fd74d",
   "metadata": {},
   "outputs": [],
   "source": [
    "# fairing.ipynb\n",
    "import os\n",
    "from kubeflow import fairing\n",
    "\n",
    "def show_hostname():\n",
    "    print(os.environ['HOSTNAME'])\n",
    "\n",
    "DOCKER_REGISTRY = 'YOURID' # 도커허브 아이디\n",
    "# DOCKER_REGISTRY = 'cap.dudaji.com:31480/프로젝트 이름' \n",
    "fairing.config.set_builder(\n",
    "    'append',\n",
    "    image_name='fairing-job',\n",
    "    registry=DOCKER_REGISTRY,\n",
    "    base_image='dudaji/cap-jupyterlab:tf2.0-cpu',\n",
    "    push=True)\n",
    "\n",
    "fairing.config.set_deployer('job',\n",
    "                            cleanup=True) # 잡을 실행후 완료시 잡을 삭제할지의 여부를 결정\n",
    "\n",
    "if __name__ == '__main__':\n",
    "    print('local show_hostname()')\n",
    "    show_hostname()\n",
    "    print('remote show_hostname()')\n",
    "    remote_show_hostname = fairing.config.fn(show_hostname)\n",
    "    remote_show_hostname()"
   ]
  },
  {
   "cell_type": "code",
   "execution_count": null,
   "id": "5fcda0ae-83e0-4fc8-a056-422e63276a37",
   "metadata": {},
   "outputs": [],
   "source": []
  }
 ],
 "metadata": {
  "kernelspec": {
   "display_name": "Python 3",
   "language": "python",
   "name": "python3"
  },
  "language_info": {
   "codemirror_mode": {
    "name": "ipython",
    "version": 3
   },
   "file_extension": ".py",
   "mimetype": "text/x-python",
   "name": "python",
   "nbconvert_exporter": "python",
   "pygments_lexer": "ipython3",
   "version": "3.6.9"
  }
 },
 "nbformat": 4,
 "nbformat_minor": 5
}
