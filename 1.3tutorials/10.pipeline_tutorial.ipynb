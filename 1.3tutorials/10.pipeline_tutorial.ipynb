{
 "cells": [
  {
   "cell_type": "code",
   "execution_count": 1,
   "id": "3ba181b1-41c7-40aa-b79e-a48e4451044b",
   "metadata": {},
   "outputs": [
    {
     "data": {
      "text/html": [
       "<a href=\"http://ml-pipeline.kubeflow.svc.cluster.local:8888/#/experiments/details/9c227270-da21-4fa3-b6e6-b783969953ca\" target=\"_blank\" >Experiment details</a>."
      ],
      "text/plain": [
       "<IPython.core.display.HTML object>"
      ]
     },
     "metadata": {},
     "output_type": "display_data"
    },
    {
     "data": {
      "text/html": [
       "<a href=\"http://ml-pipeline.kubeflow.svc.cluster.local:8888/#/runs/details/5c51d3c5-2675-4c99-b731-020564e8d7c2\" target=\"_blank\" >Run details</a>."
      ],
      "text/plain": [
       "<IPython.core.display.HTML object>"
      ]
     },
     "metadata": {},
     "output_type": "display_data"
    },
    {
     "data": {
      "text/plain": [
       "RunPipelineResult(run_id=5c51d3c5-2675-4c99-b731-020564e8d7c2)"
      ]
     },
     "execution_count": 1,
     "metadata": {},
     "output_type": "execute_result"
    }
   ],
   "source": [
    "# pipeline_tutorial.ipynb\n",
    "import kfp\n",
    "import kfp.dsl as dsl\n",
    "from kfp.components import create_component_from_func\n",
    "\n",
    "# ①\n",
    "client = kfp.Client() \n",
    "\n",
    "# ②\n",
    "def add(a: float, b: float) -> float:  \n",
    "  '''Calculates sum of two arguments'''\n",
    "  return a + b\n",
    "\n",
    "add_op = create_component_from_func(add)\n",
    "\n",
    "# ③\n",
    "@dsl.pipeline(\n",
    "  name='Add pipeline',\n",
    "  description='An example pipeline that performs addition calculations.'\n",
    ")\n",
    "def add_pipeline(\n",
    "  a='1',\n",
    "  b='7',\n",
    "):\n",
    "  add_op(a, b)\n",
    "\n",
    "# ④\n",
    "arguments = {'a': '7', 'b': '8'}\n",
    "client.create_run_from_pipeline_func(add_pipeline, arguments=arguments)  \n"
   ]
  },
  {
   "cell_type": "code",
   "execution_count": null,
   "id": "95be5d23-a97a-4793-8bb3-0ab00c1b99c1",
   "metadata": {},
   "outputs": [],
   "source": []
  }
 ],
 "metadata": {
  "kernelspec": {
   "display_name": "Python 3",
   "language": "python",
   "name": "python3"
  },
  "language_info": {
   "codemirror_mode": {
    "name": "ipython",
    "version": 3
   },
   "file_extension": ".py",
   "mimetype": "text/x-python",
   "name": "python",
   "nbconvert_exporter": "python",
   "pygments_lexer": "ipython3",
   "version": "3.6.9"
  }
 },
 "nbformat": 4,
 "nbformat_minor": 5
}
